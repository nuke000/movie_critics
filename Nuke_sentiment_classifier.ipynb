{
 "cells": [
  {
   "cell_type": "code",
   "execution_count": 1,
   "id": "5511d07c-4a81-4e2f-a22e-037c8e507a50",
   "metadata": {
    "tags": []
   },
   "outputs": [
    {
     "name": "stdout",
     "output_type": "stream",
     "text": [
      "Success!\n"
     ]
    }
   ],
   "source": [
    "! launch-server.sh server.py"
   ]
  },
  {
   "cell_type": "code",
   "execution_count": 2,
   "id": "eeb9bddd-afa2-4ac7-a0f1-d6b331a57698",
   "metadata": {
    "tags": []
   },
   "outputs": [],
   "source": [
    "import time\n",
    "time.sleep(200)"
   ]
  },
  {
   "cell_type": "code",
   "execution_count": 3,
   "id": "8406e5d9-84df-4f4e-ac02-53488af05a55",
   "metadata": {
    "tags": []
   },
   "outputs": [
    {
     "name": "stdout",
     "output_type": "stream",
     "text": [
      "Use POST to /sentiment path to classify the sentiment of the movie review.\n",
      "Post json request format {'review': 'text of review for classification'}.\n",
      "Expect json reply format {'sentiment': 1} for a positive review, {'sentiment': 0} for a negative review.\n",
      "Current model accuracy: 0.7715"
     ]
    }
   ],
   "source": [
    "! curl http://localhost:8000/"
   ]
  },
  {
   "cell_type": "code",
   "execution_count": 4,
   "id": "b7b149ed-0ceb-4822-a9eb-9822575729e4",
   "metadata": {
    "tags": []
   },
   "outputs": [
    {
     "name": "stdout",
     "output_type": "stream",
     "text": [
      "You should use only POST query to classify the sentiment of the movie review.\n",
      "POST json request format {'review': 'text of review for classification'}.\n",
      "Expect json reply format {'sentiment': 1} for a positive review, {'sentiment': 0} for a negative review.\n"
     ]
    }
   ],
   "source": [
    "! curl http://localhost:8000/sentiment"
   ]
  },
  {
   "cell_type": "code",
   "execution_count": 5,
   "id": "d764e694-d0ff-42ec-b360-1689c836497b",
   "metadata": {},
   "outputs": [],
   "source": [
    "import requests "
   ]
  },
  {
   "cell_type": "code",
   "execution_count": 6,
   "id": "15920afa-ea6a-45ff-a7b3-eb8cc96c4c1e",
   "metadata": {
    "tags": []
   },
   "outputs": [],
   "source": [
    "data = {\n",
    "    'review': \"You'll have to have your wits about you and your brain fully switched on watching Oppenheimer as it could easily get away from a nonattentive viewer. This is intelligent filmmaking which shows it's audience great respect. It fires dialogue packed with information at a relentless pace and jumps to very different times in Oppenheimer's life continuously through it's 3 hour runtime. There are visual clues to guide the viewer through these times but again you'll have to get to grips with these quite quickly. This relentlessness helps to express the urgency with which the US attacked it's chase for the atomic bomb before Germany could do the same. An absolute career best performance from (the consistenly brilliant) Cillian Murphy anchors the film. This is a nailed on Oscar performance. In fact the whole cast are fantastic (apart maybe for the sometimes overwrought Emily Blunt performance). RDJ is also particularly brilliant in a return to proper acting after his decade or so of calling it in. The screenplay is dense and layered (I'd say it was a thick as a Bible), cinematography is quite stark and spare for the most part but imbued with rich, lucious colour in moments (especially scenes with Florence Pugh), the score is beautiful at times but mostly anxious and oppressive, adding to the relentless pacing. The 3 hour runtime flies by. All in all I found it an intense, taxing but highly rewarding watch. This is film making at it finest. A really great watch.\"\n",
    "}"
   ]
  },
  {
   "cell_type": "code",
   "execution_count": 7,
   "id": "2747ad51-6d36-4775-aa42-edcfe828e857",
   "metadata": {
    "tags": []
   },
   "outputs": [],
   "source": [
    "r = requests.post(\"http://localhost:8000/sentiment\", json=data)"
   ]
  },
  {
   "cell_type": "code",
   "execution_count": 8,
   "id": "5d3101cf-3cd9-40d3-8d18-d9466a910c35",
   "metadata": {
    "tags": []
   },
   "outputs": [
    {
     "data": {
      "text/plain": [
       "200"
      ]
     },
     "execution_count": 8,
     "metadata": {},
     "output_type": "execute_result"
    }
   ],
   "source": [
    "r.status_code"
   ]
  },
  {
   "cell_type": "code",
   "execution_count": 9,
   "id": "8f53aea3-eeea-455b-83af-86ca4b840de4",
   "metadata": {
    "tags": []
   },
   "outputs": [
    {
     "data": {
      "text/plain": [
       "{'sentiment': 1}"
      ]
     },
     "execution_count": 9,
     "metadata": {},
     "output_type": "execute_result"
    }
   ],
   "source": [
    "r.json()"
   ]
  },
  {
   "cell_type": "code",
   "execution_count": 10,
   "id": "c9f44e08-038c-43ed-9965-b814362b2161",
   "metadata": {
    "tags": []
   },
   "outputs": [],
   "source": [
    "data = {\n",
    "    'review': \"A word of advice. Don't waste your money and time going to see the Barbie movie. Went with the whole family (including my 12 year old daughter and wife) and they asked to leave before it was over, it was that bad. I think it's been 30 years since I walked out of a movie theater because the movie was so, so bad. I don't know how it's been so successful. Marketing at its best (or worst). It's boring, disjointed, and sexist (to both men and women). It's an unwatchable mess, and by the last 20 minutes we cared so little about the characters, that we just left. It's horrendous. Save two hours of your life and don't bother watching.\"\n",
    "}"
   ]
  },
  {
   "cell_type": "code",
   "execution_count": 11,
   "id": "23a15138-a109-46ab-8d4e-21cab259496e",
   "metadata": {
    "tags": []
   },
   "outputs": [],
   "source": [
    "r = requests.post(\"http://localhost:8000/sentiment\", json=data)"
   ]
  },
  {
   "cell_type": "code",
   "execution_count": 12,
   "id": "c667755f-23ab-40de-81b7-69864228ea2c",
   "metadata": {
    "tags": []
   },
   "outputs": [
    {
     "data": {
      "text/plain": [
       "200"
      ]
     },
     "execution_count": 12,
     "metadata": {},
     "output_type": "execute_result"
    }
   ],
   "source": [
    "r.status_code"
   ]
  },
  {
   "cell_type": "code",
   "execution_count": 13,
   "id": "76fc61d8-a124-4b36-8b14-e0ec4c76b018",
   "metadata": {
    "tags": []
   },
   "outputs": [
    {
     "data": {
      "text/plain": [
       "{'sentiment': 0}"
      ]
     },
     "execution_count": 13,
     "metadata": {},
     "output_type": "execute_result"
    }
   ],
   "source": [
    "r.json()"
   ]
  }
 ],
 "metadata": {
  "kernelspec": {
   "display_name": "Python 3 (ipykernel)",
   "language": "python",
   "name": "python3"
  },
  "language_info": {
   "codemirror_mode": {
    "name": "ipython",
    "version": 3
   },
   "file_extension": ".py",
   "mimetype": "text/x-python",
   "name": "python",
   "nbconvert_exporter": "python",
   "pygments_lexer": "ipython3",
   "version": "3.10.9"
  }
 },
 "nbformat": 4,
 "nbformat_minor": 5
}
